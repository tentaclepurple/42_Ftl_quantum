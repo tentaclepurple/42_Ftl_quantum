{
 "cells": [
  {
   "cell_type": "markdown",
   "id": "7848301c-68b5-4987-bb58-7a4a93551416",
   "metadata": {},
   "source": [
    "**Quantum Gates and Vector Mathematics:**\n",
    "\n",
    "- *Qubit State Representation:*\n",
    "\n",
    "A qubit is represented as a 2-dimensional vector:\n",
    "\n",
    "|0⟩ = [1, 0]ᵀ\n",
    "|1⟩ = [0, 1]ᵀ\n",
    "\n",
    "\n",
    "- *Quantum Gates as Matrices:*\n",
    "\n",
    "Quantum gates are unitary operators represented by 2x2 matrices (for single qubit) or 2ⁿx2ⁿ matrices (for n qubits)."
   ]
  },
  {
   "attachments": {},
   "cell_type": "markdown",
   "id": "a917642e-f153-454c-b8ce-372c7abd6469",
   "metadata": {},
   "source": [
    "---"
   ]
  },
  {
   "cell_type": "code",
   "execution_count": 2,
   "id": "30d976ac-9071-49f7-93c8-a2daa9f80978",
   "metadata": {},
   "outputs": [],
   "source": [
    "from qiskit import QuantumCircuit, QuantumRegister\n"
   ]
  },
  {
   "cell_type": "markdown",
   "id": "f7d37179-a1f4-4afc-815e-bd60621d7aa7",
   "metadata": {},
   "source": [
    "<br/>\n",
    "<br/>\n",
    "\n",
    "**Identity Gate (I):**\n",
    "\n",
    "* *Matrix representation:*\n",
    "I = [1 0]\n",
    "[0 1]\n",
    "\n",
    "\n",
    "* *Qubit basis states:*\n",
    "|0⟩ = [1]\n",
    "[0]\n",
    "|1⟩ = [0]\n",
    "[1]\n",
    "\n",
    "\n",
    "* *Action of the Identity gate:*\n",
    "    - For |0⟩:\n",
    "I|0⟩ = [1 0] [1] = [1] = |0⟩\n",
    "[0 1] [0]   [0]\n",
    "    - For |1⟩:\n",
    "I|1⟩ = [1 0] [0] = [0] = |1⟩\n",
    "[0 1] [1]   [1]\n",
    "    - For a general state:\n",
    "      - Let |ψ⟩ = a|0⟩ + b|1⟩ = [a][b]I|ψ⟩ = [1 0] [a] = [a] = |ψ⟩[0 1] [b]   [b]\n",
    "\n",
    "<br>\n",
    "\n",
    "\n",
    "* *Properties:*\n",
    "\n",
    "    - The Identity gate doesn't change the state of the qubit.\n",
    "    - Mathematically, I * I = I (idempotent property).\n",
    "    - It's the neutral element in the multiplication of quantum gate matrices.\n",
    "\n",
    "<br>\n",
    "\n",
    "\n",
    "* *The Identity gate is important because:*\n",
    "\n",
    "    - It serves as a reference to compare other gates.\n",
    "    - It's useful in constructing controlled multi-qubit gates.\n",
    "    - It represents \"doing nothing\" in a quantum circuit, which is sometimes necessary in certain algorithms."
   ]
  },
  {
   "cell_type": "code",
   "execution_count": 28,
   "id": "5c858574-d7b1-41b5-9595-2853c1aa70b2",
   "metadata": {},
   "outputs": [
    {
     "name": "stdout",
     "output_type": "stream",
     "text": [
      "Identity Gate:\n",
      "        ┌───┐ ░ ┌─┐\n",
      "     Q: ┤ I ├─░─┤M├\n",
      "        └───┘ ░ └╥┘\n",
      "meas: 1/═════════╩═\n",
      "                 0 \n"
     ]
    },
    {
     "data": {
      "image/png": "[encoded data removed]",
      "text/plain": [
       "<Figure size 413.165x200.667 with 1 Axes>"
      ]
     },
     "execution_count": 28,
     "metadata": {},
     "output_type": "execute_result"
    }
   ],
   "source": [
    "q = QuantumRegister(1, 'Q')\n",
    "qc = QuantumCircuit(q)\n",
    "qc.id(0)  # Identity gate\n",
    "qc.measure_all()\n",
    "print(\"Identity Gate:\")\n",
    "qc.draw(output=\"mpl\")"
   ]
  },
  {
   "cell_type": "markdown",
   "id": "e81c02d1-8dbd-47bf-96be-16ea9b9572d1",
   "metadata": {},
   "source": [
    "---"
   ]
  },
  {
   "cell_type": "markdown",
   "id": "f0959f1f-2839-4395-b15d-25f8372c2c75",
   "metadata": {},
   "source": [
    "<br/>\n",
    "<br/>\n",
    "\n",
    "**Hadamard Gate (H):**\n",
    "\n",
    "- *Matrix representation:*\n",
    "H = 1/√2 * [1 1] [1 -1]\n",
    "\n",
    "- *Action on basis states:*\n",
    "    - For |0⟩: H|0⟩ = 1/√2 * [1 1] [1] = 1/√2 * [1] = 1/√2(|0⟩ + |1⟩) = |+⟩ [1 -1] [0] [1]\n",
    "    - For |1⟩: H|1⟩ = 1/√2 * [1 1] [0] = 1/√2 * [ 1] = 1/√2(|0⟩ - |1⟩) = |-⟩ [1 -1] [1] [-1]\n",
    "\n",
    "<br>\n",
    "\n",
    "- *Properties:*\n",
    "    - H * H = I (applying H twice returns the original state)\n",
    "      \n",
    "    - Creates equal superposition of |0⟩ and |1⟩\n",
    "    \n",
    "    - Transforms between X and Z bases\n",
    "    \n",
    "    - Effect on a general state:\n",
    "         - Let |ψ⟩ = a|0⟩ + b|1⟩ = [a] [b] H|ψ⟩ = 1/√2 * [1 1] [a] = 1/√2 * [a + b] [1 -1] [b] [a - b]\n",
    "    - When applied twice the qubit returns to its original state. This is because the Hadamard gate is its own inverse\n",
    "\n",
    "<br>\n",
    "\n",
    "- *Importance in quantum computing:*\n",
    "\n",
    "    - Used to create superposition, a key quantum resource\n",
    "    - Often used at the beginning of quantum algorithms to create an equal superposition of all basis states\n",
    "    - Essential in algorithms like quantum Fourier transform"
   ]
  },
  {
   "cell_type": "code",
   "execution_count": 27,
   "id": "c681af8c-2f65-4506-bf30-e28543d9c11d",
   "metadata": {},
   "outputs": [
    {
     "name": "stdout",
     "output_type": "stream",
     "text": [
      "Hadamard Gate\n",
      "        ┌───┐ ░ ┌─┐\n",
      "     Q: ┤ H ├─░─┤M├\n",
      "        └───┘ ░ └╥┘\n",
      "meas: 1/═════════╩═\n",
      "                 0 \n"
     ]
    },
    {
     "data": {
      "image/png": "[encoded data removed]",
      "text/plain": [
       "<Figure size 413.165x200.667 with 1 Axes>"
      ]
     },
     "execution_count": 27,
     "metadata": {},
     "output_type": "execute_result"
    }
   ],
   "source": [
    "q = QuantumRegister(1, 'Q')\n",
    "qc = QuantumCircuit(q)\n",
    "qc.h(0)\n",
    "qc.measure_all()\n",
    "print(\"Hadamard Gate\")\n",
    "qc.draw(output=\"mpl\")"
   ]
  },
  {
   "cell_type": "markdown",
   "id": "bac1ccb8-117f-45e8-a958-64a72cf4004f",
   "metadata": {},
   "source": [
    "---"
   ]
  },
  {
   "cell_type": "markdown",
   "id": "c630b811-a133-4d3e-bc05-983b8455dda3",
   "metadata": {},
   "source": [
    "<br/>\n",
    "<br/>\n",
    "\n",
    "**Pauli-X Gate (X) (AKA quantum NOT gate, bit-flip gate):**\n",
    "\n",
    "*Matrix representation:*\n",
    "- X = [0 1]\n",
    "[1 0]\n",
    "- Action on basis states:\n",
    "    - For |0⟩:\n",
    "X|0⟩ = [0 1] [1] = [0] = |1⟩\n",
    "[1 0] [0]   [1]\n",
    "    - For |1⟩:\n",
    "X|1⟩ = [0 1] [0] = [1] = |0⟩\n",
    "[1 0] [1]   [0]\n",
    "- Effect on a general state:\n",
    "  - Let |ψ⟩ = a|0⟩ + b|1⟩ = [a]\n",
    "[b]\n",
    "X|ψ⟩ = [0 1] [a] = [b]\n",
    "[1 0] [b]   [a]\n",
    "\n",
    "*Properties:*\n",
    "\n",
    "- X * X = I (applying X twice returns the original state)\n",
    "- Eigenvalues: +1 and -1\n",
    "- Eigenvectors: |+⟩ = 1/√2(|0⟩ + |1⟩) and |-⟩ = 1/√2(|0⟩ - |1⟩)\n",
    "\n",
    "\n",
    "\n",
    "*Importance in quantum computing:*\n",
    "\n",
    "- Quantum analog of the classical NOT operation. *Changes the state of the qubit to its opposite*.\n",
    "- Used for state preparation and in quantum error correction\n",
    "- Component in many quantum gates and algorithms"
   ]
  },
  {
   "cell_type": "code",
   "execution_count": 3,
   "id": "26a44562-7768-48a8-8661-e2b4031f94da",
   "metadata": {},
   "outputs": [
    {
     "name": "stdout",
     "output_type": "stream",
     "text": [
      "Pauli-X Gate:\n",
      "        ┌───┐ ░ ┌─┐\n",
      "     Q: ┤ X ├─░─┤M├\n",
      "        └───┘ ░ └╥┘\n",
      "meas: 1/═════════╩═\n",
      "                 0 \n"
     ]
    },
    {
     "data": {
      "image/png": "[encoded data removed]",
      "text/plain": [
       "<Figure size 413.165x200.667 with 1 Axes>"
      ]
     },
     "execution_count": 3,
     "metadata": {},
     "output_type": "execute_result"
    }
   ],
   "source": [
    "q = QuantumRegister(1, 'Q')\n",
    "qc = QuantumCircuit(q)\n",
    "qc.x(0)  # X gate\n",
    "qc.measure_all()\n",
    "print(\"Pauli-X Gate:\")\n",
    "qc.draw(output=\"mpl\")"
   ]
  },
  {
   "cell_type": "markdown",
   "id": "9192aef1-39c8-4e59-90a9-d676e102d2d7",
   "metadata": {},
   "source": [
    "---"
   ]
  },
  {
   "cell_type": "markdown",
   "id": "792cc1bb-39d7-4487-bf6b-cfff46a7589b",
   "metadata": {},
   "source": [
    "<br/>\n",
    "<br/>\n",
    "\n",
    "**Pauli-Y Gate (Y):**\n",
    "\n",
    "*Matrix representation:*\n",
    "- Y = [0 -i]\n",
    "[i  0]\n",
    "Where i is the imaginary unit (i² = -1).\n",
    "- Action on basis states:\n",
    "    - For |0⟩:\n",
    "Y|0⟩ = [0 -i] [1] = [ 0] = i|1⟩\n",
    "[i  0] [0]   [ i]\n",
    "    - For |1⟩:\n",
    "Y|1⟩ = [0 -i] [0] = [-i] = -i|0⟩\n",
    "[i  0] [1]   [ 0]\n",
    "- Effect on a general state:\n",
    "    - Let |ψ⟩ = a|0⟩ + b|1⟩ = [a]\n",
    "[b]\n",
    "Y|ψ⟩ = [0 -i] [a] = [-ib]\n",
    "[i  0] [b]   [ ia]\n",
    "\n",
    "*Properties:*\n",
    "\n",
    "- Y * Y = I (applying Y twice returns the original state)\n",
    "- Eigenvalues: +1 and -1\n",
    "- Eigenvectors: |+i⟩ = 1/√2(|0⟩ + i|1⟩) and |-i⟩ = 1/√2(|0⟩ - i|1⟩)\n",
    "\n",
    "\n",
    "*Bloch sphere visualization:*\n",
    "\n",
    "- **The Y gate rotates the state by 180° around the y-axis.**\n",
    "- It flips the state between the +x and -x points on the Bloch sphere.\n",
    "\n",
    "\n",
    "*Importance in quantum computing:*\n",
    "\n",
    "- One of the three Pauli gates (X, Y, Z) which form a basis for single-qubit operations\n",
    "- Used in quantum tomography and error correction\n",
    "- Important in the construction of more complex quantum gates"
   ]
  },
  {
   "cell_type": "code",
   "execution_count": 25,
   "id": "858be6b7-885c-40a8-a184-4e0107258954",
   "metadata": {},
   "outputs": [
    {
     "name": "stdout",
     "output_type": "stream",
     "text": [
      "Pauli-Y Gate:\n",
      "        ┌───┐ ░ ┌─┐\n",
      "     Q: ┤ Y ├─░─┤M├\n",
      "        └───┘ ░ └╥┘\n",
      "meas: 1/═════════╩═\n",
      "                 0 \n"
     ]
    },
    {
     "data": {
      "image/png": "[encoded data removed]",
      "text/plain": [
       "<Figure size 413.165x200.667 with 1 Axes>"
      ]
     },
     "execution_count": 25,
     "metadata": {},
     "output_type": "execute_result"
    }
   ],
   "source": [
    "q = QuantumRegister(1, 'Q')\n",
    "qc = QuantumCircuit(q)\n",
    "qc.y(0)  # Y gate\n",
    "qc.measure_all()\n",
    "print(\"Pauli-Y Gate:\")\n",
    "qc.draw(output=\"mpl\")"
   ]
  },
  {
   "cell_type": "markdown",
   "id": "457351c9-a2ca-4e00-ab6d-9027117b6856",
   "metadata": {},
   "source": [
    "---"
   ]
  },
  {
   "cell_type": "markdown",
   "id": "82a884c0-dd65-4565-8a54-78e54e24bd92",
   "metadata": {},
   "source": [
    "<br/>\n",
    "<br/>\n",
    "\n",
    "**Pauli-Z Gate (Z):**\n",
    "\n",
    "*Matrix representation:*\n",
    "- Z = [1  0]\n",
    "[0 -1]\n",
    "- Action on basis states:\n",
    "- For |0⟩:\n",
    "Z|0⟩ = [1  0] [1] = [1] = |0⟩\n",
    "[0 -1] [0]   [0]\n",
    "- For |1⟩:\n",
    "Z|1⟩ = [1  0] [0] = [ 0] = -|1⟩\n",
    "[0 -1] [1]   [-1]\n",
    "- Effect on a general state:\n",
    "    - Let |ψ⟩ = a|0⟩ + b|1⟩ = [a]\n",
    "[b]\n",
    "Z|ψ⟩ = [1  0] [a] = [ a]\n",
    "[0 -1] [b]   [-b]\n",
    "\n",
    "*Properties:*\n",
    "\n",
    "- Z * Z = I (applying Z twice returns the original state)\n",
    "- Eigenvalues: +1 and -1\n",
    "- Eigenvectors: |0⟩ and |1⟩ (the computational basis states)\n",
    "\n",
    "\n",
    "*Importance in quantum computing:*\n",
    "\n",
    "- **The Z Gate is similar to the classical identity gate but with a twist: it flips the phase of the ∣1⟩ state.**\n",
    "\n",
    "            If the qubit is in ∣0⟩, nothing changes; if it's in ∣1⟩, its phase is reversed.\n",
    "\n",
    "  \n",
    "- Introduces a relative phase between |0⟩ and |1⟩ states\n",
    "- Critical in quantum phase estimation algorithms\n",
    "- Used in quantum error correction and quantum teleportation"
   ]
  },
  {
   "cell_type": "code",
   "execution_count": 5,
   "id": "1b3004ce-0026-4ebc-aadc-6f705926cc53",
   "metadata": {},
   "outputs": [
    {
     "name": "stdout",
     "output_type": "stream",
     "text": [
      "Pauli-Z Gate:\n"
     ]
    },
    {
     "data": {
      "image/png": "[encoded data removed]",
      "text/plain": [
       "<Figure size 413.165x200.667 with 1 Axes>"
      ]
     },
     "execution_count": 5,
     "metadata": {},
     "output_type": "execute_result"
    }
   ],
   "source": [
    "q = QuantumRegister(1, 'Q')\n",
    "qc = QuantumCircuit(q)\n",
    "qc.z(0)  # Z gate\n",
    "qc.measure_all()\n",
    "print(\"Pauli-Z Gate:\")\n",
    "qc.draw(output=\"mpl\")"
   ]
  },
  {
   "cell_type": "markdown",
   "id": "64743129-5c6e-4fb5-9d50-0b33dd9c2c68",
   "metadata": {},
   "source": [
    "---"
   ]
  },
  {
   "cell_type": "markdown",
   "id": "f5a4b155-abc0-43a1-a34b-533aeddde5c1",
   "metadata": {},
   "source": [
    "<br/>\n",
    "<br/>\n",
    "\n",
    "**CNOT (CONTROLED NOT Gate) (cx):**\n",
    "\n",
    "- The CNOT Gate is the quantum equivalent of the classical XOR gate.\n",
    "- It operates on two qubits: if the control qubit is ∣1⟩, the target qubit is flipped (just like a NOT gate)."
   ]
  },
  {
   "cell_type": "code",
   "execution_count": 9,
   "id": "d9dceafd-637b-4fb9-a98c-5cd1a5caaae9",
   "metadata": {},
   "outputs": [
    {
     "name": "stdout",
     "output_type": "stream",
     "text": [
      "CNOT Gate (cx):\n"
     ]
    },
    {
     "data": {
      "image/png": "[encoded data removed]",
      "text/plain": [
       "<Figure size 287.294x200.667 with 1 Axes>"
      ]
     },
     "execution_count": 9,
     "metadata": {},
     "output_type": "execute_result"
    }
   ],
   "source": [
    "qc = QuantumCircuit(2)\n",
    "\n",
    "qc.x(0)\n",
    "\n",
    "qc.cx(0, 1)\n",
    "\n",
    "print(\"CNOT Gate (cx):\")\n",
    "qc.draw(output=\"mpl\")"
   ]
  },
  {
   "cell_type": "markdown",
   "id": "da6ff463-baef-49e0-98e8-b11efc88b9a6",
   "metadata": {},
   "source": [
    "---"
   ]
  },
  {
   "cell_type": "markdown",
   "id": "77254d7c-8ea1-4eee-a904-5e17973297d5",
   "metadata": {},
   "source": [
    "<br/>\n",
    "<br/>\n",
    "\n",
    "**SWAP Gate (swap):**\n",
    "\n",
    "- Exchanges the states of two qubits\n",
    "- It doesn't have a classical direct counterpart in Boolean logic, though it acts similarly to exchanging two classical bits."
   ]
  },
  {
   "cell_type": "code",
   "execution_count": 11,
   "id": "fd95a487-da7f-4de1-9d56-6c7034be8702",
   "metadata": {},
   "outputs": [
    {
     "name": "stdout",
     "output_type": "stream",
     "text": [
      "CNOT Gate (cx):\n"
     ]
    },
    {
     "data": {
      "image/png": "[encoded data removed]",
      "text/plain": [
       "<Figure size 203.683x200.667 with 1 Axes>"
      ]
     },
     "execution_count": 11,
     "metadata": {},
     "output_type": "execute_result"
    }
   ],
   "source": [
    "qc = QuantumCircuit(2)\n",
    "\n",
    "# Apply the SWAP gate between qubit 0 and qubit 1\n",
    "qc.swap(0, 1)\n",
    "\n",
    "print(\"CNOT Gate (cx):\")\n",
    "qc.draw(output=\"mpl\")"
   ]
  },
  {
   "cell_type": "markdown",
   "id": "4d27d9e0-92dd-4dbb-b6c2-c96fa27565dd",
   "metadata": {},
   "source": [
    "---"
   ]
  },
  {
   "cell_type": "markdown",
   "id": "fc4c60f7-9ed2-4f32-84f5-676578f3914f",
   "metadata": {},
   "source": [
    "<br/>\n",
    "<br/>\n",
    "\n",
    "**CCNOT, Toffoli, CONTROLED CONTROLED NOT Gate (ccx):**\n",
    "\n",
    "- The Toffoli Gate is the quantum equivalent of the classical AND gate when two qubits are used as control bits.\n",
    "- If both control qubits are ∣1⟩, the target qubit is flipped."
   ]
  },
  {
   "cell_type": "code",
   "execution_count": 8,
   "id": "cc356c7f-477e-4c96-b4d4-0d0db6ca6416",
   "metadata": {},
   "outputs": [
    {
     "name": "stdout",
     "output_type": "stream",
     "text": [
      "Toffoli Gate (ccx):\n"
     ]
    },
    {
     "data": {
      "image/png": "[encoded data removed]",
      "text/plain": [
       "<Figure size 287.496x284.278 with 1 Axes>"
      ]
     },
     "execution_count": 8,
     "metadata": {},
     "output_type": "execute_result"
    }
   ],
   "source": [
    "qc = QuantumCircuit(3)\n",
    "\n",
    "qc.x(0)\n",
    "qc.x(1)\n",
    "\n",
    "# Apply the Toffoli gate (controls are qubits 0 and 1, target is qubit 2)\n",
    "qc.ccx(0, 1, 2)\n",
    "\n",
    "print(\"Toffoli Gate (ccx):\")\n",
    "qc.draw(output=\"mpl\")"
   ]
  },
  {
   "cell_type": "markdown",
   "id": "8812bd30-09c3-4715-9558-5d8153e1e3af",
   "metadata": {},
   "source": [
    "---"
   ]
  },
  {
   "cell_type": "markdown",
   "id": "779adb9c-e281-4687-aa44-5aff7758ce42",
   "metadata": {},
   "source": [
    "<br/>\n",
    "<br/>\n",
    "\n",
    "**Phase Gate (S):**\n",
    "\n",
    "*Matrix representation:*\n",
    "- S = [1 0]\n",
    "[0 i]\n",
    "- Where i is the imaginary unit (i² = -1).\n",
    "- Action on basis states:\n",
    "    - For |0⟩:\n",
    "S|0⟩ = [1 0] [1] = [1] = |0⟩\n",
    "[0 i] [0]   [0]\n",
    "    - For |1⟩:\n",
    "S|1⟩ = [1 0] [0] = [0] = i|1⟩\n",
    "[0 i] [1]   [i]\n",
    "- Effect on a general state:\n",
    "    - Let |ψ⟩ = a|0⟩ + b|1⟩ = [a]\n",
    "[b]\n",
    "S|ψ⟩ = [1 0] [a] = [ a ]\n",
    "[0 i] [b]   [ib]\n",
    "\n",
    "*Properties:*\n",
    "\n",
    "- S * S = Z (applying S twice is equivalent to applying the Z gate)\n",
    "- S⁴ = I (applying S four times returns the original state)\n",
    "- Eigenvalues: +1 and +i\n",
    "\n",
    "\n",
    "*Bloch sphere visualization:*\n",
    "\n",
    "- The S gate rotates the state by 90° around the z-axis.\n",
    "- It doesn't change the z-component of the state vector.\n",
    "\n",
    "\n",
    "*Importance in quantum computing:*\n",
    "\n",
    "- Used to create phase shifts in quantum states\n",
    "- Essential in constructing more complex gates, like the T gate\n",
    "- Important in quantum error correction and fault-tolerant quantum computation"
   ]
  },
  {
   "cell_type": "code",
   "execution_count": 13,
   "id": "8eb8978c-ecf0-43db-842f-7c8b415967ab",
   "metadata": {},
   "outputs": [
    {
     "data": {
      "image/png": "[encoded data removed]",
      "text/plain": [
       "<Figure size 413.165x200.667 with 1 Axes>"
      ]
     },
     "execution_count": 13,
     "metadata": {},
     "output_type": "execute_result"
    }
   ],
   "source": [
    "q = QuantumRegister(1, 'Q')\n",
    "qc = QuantumCircuit(q)\n",
    "qc.s(0)  # S gate\n",
    "qc.measure_all()\n",
    "qc.draw(output=\"mpl\")"
   ]
  },
  {
   "cell_type": "markdown",
   "id": "3407c390-73fa-4742-85e3-ea35cbe18b70",
   "metadata": {},
   "source": [
    "---"
   ]
  },
  {
   "cell_type": "markdown",
   "id": "1b40dd6f-ed03-4a69-9b16-875d8e8031e6",
   "metadata": {},
   "source": [
    "<br/>\n",
    "<br/>\n",
    "\n",
    "**T Gate:**\n",
    "\n",
    "*Matrix representation:*\n",
    "- T = [1    0   ]\n",
    "[0  e^(iπ/4)]\n",
    "- Where e^(iπ/4) = (1 + i) / √2\n",
    "- Action on basis states:\n",
    "    - For |0⟩:\n",
    "T|0⟩ = [1    0   ] [1] = [    1    ] = |0⟩\n",
    "[0  e^(iπ/4)] [0]   [    0    ]\n",
    "    - For |1⟩:\n",
    "T|1⟩ = [1    0   ] [0] = [    0    ] = e^(iπ/4)|1⟩\n",
    "[0  e^(iπ/4)] [1]   [e^(iπ/4)]\n",
    "\n",
    "- Effect on a general state:\n",
    "    - Let |ψ⟩ = a|0⟩ + b|1⟩ = [a]\n",
    "[b]\n",
    "T|ψ⟩ = [1    0   ] [a] = [       a      ]\n",
    "[0  e^(iπ/4)] [b]   [b * e^(iπ/4)]\n",
    "\n",
    "*Properties:*\n",
    "\n",
    "    - T * T = S (applying T twice is equivalent to applying the S gate)\n",
    "    - T⁴ = Z (applying T four times is equivalent to applying the Z gate)\n",
    "    - T⁸ = I (applying T eight times returns the original state)\n",
    "\n",
    "*Importance in quantum computing:*\n",
    "\n",
    "- Essential for universal quantum computation\n",
    "- Cannot be efficiently simulated classically when used with other gates\n",
    "- Used in magic state distillation for fault-tolerant quantum computing"
   ]
  },
  {
   "cell_type": "code",
   "execution_count": 22,
   "id": "337a6c97-c506-429f-9838-ae77f956f708",
   "metadata": {},
   "outputs": [
    {
     "name": "stdout",
     "output_type": "stream",
     "text": [
      "T Gate:\n",
      "        ┌───┐ ░ ┌─┐\n",
      "     Q: ┤ T ├─░─┤M├\n",
      "        └───┘ ░ └╥┘\n",
      "meas: 1/═════════╩═\n",
      "                 0 \n"
     ]
    },
    {
     "data": {
      "image/png": "[encoded data removed]",
      "text/plain": [
       "<Figure size 413.165x200.667 with 1 Axes>"
      ]
     },
     "execution_count": 22,
     "metadata": {},
     "output_type": "execute_result"
    }
   ],
   "source": [
    "q = QuantumRegister(1, 'Q')\n",
    "qc = QuantumCircuit(q)\n",
    "qc.t(0)  # T gate\n",
    "qc.measure_all()\n",
    "print(\"T Gate:\")\n",
    "qc.draw(output=\"mpl\")"
   ]
  },
  {
   "cell_type": "markdown",
   "id": "8a084600-0e5c-4113-bbc0-8f2259e5409e",
   "metadata": {},
   "source": [
    "---"
   ]
  },
  {
   "cell_type": "markdown",
   "id": "f83d2bc3-4f5d-4ab2-8565-5bdd78ca097c",
   "metadata": {},
   "source": [
    "<br/>\n",
    "<br/>\n",
    "\n",
    "**Rotation Gates: Rx, Ry, and Rz**\n",
    "\n",
    "*Matrix representations:*\n",
    "- Rx(θ) = [cos(θ/2)   -isin(θ/2)]\n",
    "[-isin(θ/2)  cos(θ/2) ]\n",
    "- Ry(θ) = [cos(θ/2)  -sin(θ/2)]\n",
    "[sin(θ/2)   cos(θ/2)]\n",
    "- Rz(θ) = [e^(-iθ/2)    0     ]\n",
    "[   0      e^(iθ/2) ]\n",
    "    - Where θ is the rotation angle in radians.\n",
    "\n",
    "*Effect on the Bloch sphere:*\n",
    "\n",
    "- Rx(θ): Rotates the state by θ radians around the x-axis\n",
    "- Ry(θ): Rotates the state by θ radians around the y-axis\n",
    "- Rz(θ): Rotates the state by θ radians around the z-axis\n",
    "\n",
    "\n",
    "*Properties:*\n",
    "\n",
    "- All rotation gates are unitary: R(θ)†R(θ) = I\n",
    "- R(-θ) = R(θ)† (inverses are obtained by negating the angle)\n",
    "- Rotation gates can generate any single-qubit unitary operation\n",
    "\n",
    "\n",
    "*Relationships with other gates:*\n",
    "\n",
    "- Rx(π) = -iX (up to a global phase)\n",
    "- Ry(π) = -iY\n",
    "- Rz(π) = -iZ\n",
    "- Rz(π/2) = S (up to a global phase)\n",
    "- Rz(π/4) = T (up to a global phase)"
   ]
  },
  {
   "cell_type": "code",
   "execution_count": 12,
   "id": "73caca66-e33c-4713-a203-9c3295ccf8d3",
   "metadata": {},
   "outputs": [
    {
     "name": "stdout",
     "output_type": "stream",
     "text": [
      "Rotation Gates (Rx, Ry, Rz):\n"
     ]
    },
    {
     "data": {
      "image/png": "[encoded data removed]",
      "text/plain": [
       "<Figure size 580.387x200.667 with 1 Axes>"
      ]
     },
     "execution_count": 12,
     "metadata": {},
     "output_type": "execute_result"
    }
   ],
   "source": [
    "import numpy as np\n",
    "\n",
    "q = QuantumRegister(1, 'Q')\n",
    "qc = QuantumCircuit(q)\n",
    "\n",
    "# Rotation around X-axis\n",
    "qc.rx(np.pi/4, 0)\n",
    "\n",
    "# Rotation around Y-axis\n",
    "qc.ry(np.pi/4, 0)\n",
    "\n",
    "# Rotation around Z-axis\n",
    "qc.rz(np.pi/4, 0)\n",
    "\n",
    "qc.measure_all()\n",
    "print(\"Rotation Gates (Rx, Ry, Rz):\")\n",
    "qc.draw(output=\"mpl\")"
   ]
  },
  {
   "cell_type": "markdown",
   "id": "4317459c-6464-4da9-88d3-272b52ef817f",
   "metadata": {},
   "source": [
    "---"
   ]
  },
  {
   "cell_type": "markdown",
   "id": "639ab74f-11d7-4b83-9208-25d8867f43fa",
   "metadata": {},
   "source": [
    "<br/>\n",
    "<br/>\n",
    "\n",
    "**CNOT Gate:**\n",
    "\n",
    "*Matrix representation:*\n",
    "- CNOT = [1 0 0 0]\n",
    "[0 1 0 0]\n",
    "[0 0 0 1]\n",
    "[0 0 1 0]\n",
    "- Action on basis states:\n",
    "  - CNOT|00⟩ = |00⟩\n",
    "  - CNOT|01⟩ = |01⟩\n",
    "  - CNOT|10⟩ = |11⟩\n",
    "  - CNOT|11⟩ = |10⟩\n",
    "- Effect on a general two-qubit state:\n",
    "    -Let |ψ⟩ = a|00⟩ + b|01⟩ + c|10⟩ + d|11⟩\n",
    "CNOT|ψ⟩ = a|00⟩ + b|01⟩ + d|10⟩ + c|11⟩\n",
    "\n",
    "*Properties:*\n",
    "\n",
    "- CNOT * CNOT = I (applying CNOT twice returns the original state)\n",
    "- CNOT is its own inverse: CNOT = CNOT^(-1)\n",
    "- Not symmetric: CNOT(control, target) ≠ CNOT(target, control)\n",
    "\n",
    "*Importance in quantum computing:*\n",
    "\n",
    "- Along with single-qubit gates, CNOT forms a universal set for quantum computation\n",
    "- Creates entanglement between qubits\n",
    "- Essential in many quantum algorithms and error correction codes\n",
    "\n",
    "\n",
    "*Logical operation:*\n",
    "\n",
    "- Acts as a controlled-X operation\n",
    "- If the control qubit is |1⟩, it applies an X (NOT) gate to the target qubit\n",
    "- If the control qubit is |0⟩, it leaves the target qubit unchanged\n",
    "\n",
    "\n",
    "*Entanglement creation:*\n",
    "\n",
    "- Can create maximally entangled states (Bell states)\n",
    "- Example: CNOT(H⊗I)|00⟩ = 1/√2(|00⟩ + |11⟩) (a Bell state)\n",
    "\n",
    "\n",
    "*Physical implementation:*\n",
    "\n",
    "- Implementation varies depending on the quantum computing platform\n",
    "- Often more challenging to implement with high fidelity compared to single-qubit gates\n",
    "\n",
    "\n",
    "*Applications:*\n",
    "\n",
    "- Quantum teleportation protocol\n",
    "- Quantum error correction\n",
    "- Quantum Fourier transform\n",
    "- Many quantum algorithms (e.g., Grover's algorithm, Shor's algorithm)\n",
    "\n",
    "\n",
    "*Variants:*\n",
    "\n",
    "- Controlled-U gates: CNOT is a special case where U is the X gate\n",
    "- Toffoli gate (CCNOT): A three-qubit extension with two control qubits\n",
    "\n",
    "\n",
    "*Relation to classical computing:*\n",
    "\n",
    "- Quantum analog of the classical XOR operation\n",
    "- Essential for reversible classical computation"
   ]
  },
  {
   "cell_type": "markdown",
   "id": "2c7f3020-2a27-4bb7-90cc-dcbb268ef931",
   "metadata": {},
   "source": [
    "---"
   ]
  },
  {
   "cell_type": "markdown",
   "id": "69ca7bc6-e112-4412-b976-0030218b6a6f",
   "metadata": {},
   "source": [
    "**SWAP Gate:**\n",
    "\n",
    "*Matrix representation:*\n",
    "- SWAP = [1 0 0 0]\n",
    "[0 0 1 0]\n",
    "[0 1 0 0]\n",
    "[0 0 0 1]\n",
    "- Action on basis states:\n",
    "SWAP|00⟩ = |00⟩\n",
    "SWAP|01⟩ = |10⟩\n",
    "SWAP|10⟩ = |01⟩\n",
    "SWAP|11⟩ = |11⟩\n",
    "- Effect on a general two-qubit state:\n",
    "Let |ψ⟩ = a|00⟩ + b|01⟩ + c|10⟩ + d|11⟩\n",
    "SWAP|ψ⟩ = a|00⟩ + c|01⟩ + b|10⟩ + d|11⟩\n",
    "\n",
    "*Properties:*\n",
    "\n",
    "- SWAP * SWAP = I (applying SWAP twice returns the original state)\n",
    "- SWAP is its own inverse: SWAP = SWAP^(-1)\n",
    "- SWAP is symmetric: SWAP(qubit1, qubit2) = SWAP(qubit2, qubit1)\n",
    "\n",
    "*Importance in quantum computing:*\n",
    "\n",
    "- Used to rearrange qubits in a quantum circuit\n",
    "- Essential in architectures with limited qubit connectivity\n",
    "- Useful in quantum algorithms and quantum state preparation\n",
    "\n",
    "\n",
    "*Physical implementation:*\n",
    "\n",
    "- In some quantum systems, SWAP might be a native operation\n",
    "- Often implemented using the CNOT decomposition mentioned above\n",
    "\n",
    "\n",
    "*Applications:*\n",
    "\n",
    "- Quantum state preparation: Rearranging qubits to desired positions\n",
    "- Quantum algorithms: Used in various algorithms to manage qubit arrangements\n",
    "- Quantum circuit optimization: Can be used to reduce circuit depth in certain architectures"
   ]
  },
  {
   "cell_type": "markdown",
   "id": "57cae802-eae4-4bb7-973c-4998b0877d15",
   "metadata": {},
   "source": [
    "---"
   ]
  },
  {
   "cell_type": "code",
   "execution_count": null,
   "id": "ba3cabbb-8a80-4509-9763-744a17882566",
   "metadata": {},
   "outputs": [],
   "source": []
  }
 ],
 "metadata": {
  "kernelspec": {
   "display_name": "Python 3 (ipykernel)",
   "language": "python",
   "name": "python3"
  },
  "language_info": {
   "codemirror_mode": {
    "name": "ipython",
    "version": 3
   },
   "file_extension": ".py",
   "mimetype": "text/x-python",
   "name": "python",
   "nbconvert_exporter": "python",
   "pygments_lexer": "ipython3",
   "version": "3.10.15"
  }
 },
 "nbformat": 4,
 "nbformat_minor": 5
}
