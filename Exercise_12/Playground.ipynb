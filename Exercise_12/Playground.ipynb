{
 "cells": [
  {
   "cell_type": "code",
   "execution_count": 5,
   "id": "208cc7c0-d7b7-480d-8e1b-7f19028e3ea4",
   "metadata": {},
   "outputs": [],
   "source": [
    "from qiskit import QuantumCircuit\n",
    "from qiskit.transpiler.preset_passmanagers import generate_preset_pass_manager\n",
    "from qiskit_aer import Aer\n",
    "from qiskit_ibm_runtime import SamplerV2 as Sampler\n",
    "from qiskit.visualization import plot_histogram, plot_distribution"
   ]
  },
  {
   "cell_type": "code",
   "execution_count": 6,
   "id": "51bdd12c-245a-4b5b-8091-19c488799c88",
   "metadata": {},
   "outputs": [
    {
     "name": "stdout",
     "output_type": "stream",
     "text": [
      "        ┌───┐ ░ ┌─┐\n",
      "     q: ┤ H ├─░─┤M├\n",
      "        └───┘ ░ └╥┘\n",
      "meas: 1/═════════╩═\n",
      "                 0 \n"
     ]
    },
    {
     "data": {
      "text/plain": [
       "{'0': 238, '1': 262}"
      ]
     },
     "metadata": {},
     "output_type": "display_data"
    }
   ],
   "source": [
    "qc = QuantumCircuit(1)\n",
    "\n",
    "qc.h(0)\n",
    "\n",
    "qc.measure_all()\n",
    "\n",
    "print(qc.draw())\n",
    "\n",
    "qc.draw(output=\"mpl\")\n",
    "\n",
    "backend = Aer.get_backend('qasm_simulator')\n",
    "target = backend.target\n",
    "\n",
    "pass_manager = generate_preset_pass_manager(target=target, optimization_level=0, backend=backend)\n",
    "\n",
    "transpiled = pass_manager.run(qc)\n",
    "\n",
    "sampler = Sampler(mode=backend)\n",
    "\n",
    "job = sampler.run([transpiled], shots=500)\n",
    "\n",
    "result = job.result()\n",
    "\n",
    "dist = result[0].data.meas.get_counts()\n",
    "display(dist)\n",
    "#plot_distribution(dist, title=\"Classical results for Superposition (in %)\")"
   ]
  },
  {
   "cell_type": "code",
   "execution_count": 10,
   "id": "da6b6909-23a3-46d5-944d-083ae4425a63",
   "metadata": {},
   "outputs": [
    {
     "name": "stdout",
     "output_type": "stream",
     "text": [
      "        ┌───┐      ░ ┌─┐   \n",
      "   q_0: ┤ X ├──■───░─┤M├───\n",
      "        └───┘┌─┴─┐ ░ └╥┘┌─┐\n",
      "   q_1: ─────┤ X ├─░──╫─┤M├\n",
      "             └───┘ ░  ║ └╥┘\n",
      "meas: 2/══════════════╩══╩═\n",
      "                      0  1 \n"
     ]
    },
    {
     "data": {
      "image/png": "[encoded data removed]",
      "text/plain": [
       "<Figure size 580.387x284.278 with 1 Axes>"
      ]
     },
     "metadata": {},
     "output_type": "display_data"
    },
    {
     "name": "stdout",
     "output_type": "stream",
     "text": [
      "Counts: {'11': 500}\n"
     ]
    }
   ],
   "source": [
    "qc = QuantumCircuit(2)\n",
    "\n",
    "qc.x(0)\n",
    "\n",
    "qc.cx(0, 1)\n",
    "\n",
    "qc.measure_all()\n",
    "\n",
    "print(qc.draw())\n",
    "display(qc.draw(output=\"mpl\"))\n",
    "\n",
    "\n",
    "simulator = AerSimulator()\n",
    "transpiled_qc = transpile(qc, simulator)\n",
    "job = simulator.run(transpiled_qc, shots=500)\n",
    "\n",
    "result = job.result()\n",
    "counts = result.get_counts()\n",
    "\n",
    "print(\"Counts:\", counts)"
   ]
  },
  {
   "cell_type": "code",
   "execution_count": 26,
   "id": "dfb4df74-40a2-43a9-a4c7-984f211d1dad",
   "metadata": {},
   "outputs": [
    {
     "name": "stdout",
     "output_type": "stream",
     "text": [
      "        ┌───┐┌───┐┌───┐ ░ ┌─┐   \n",
      "   q_0: ┤ X ├┤ H ├┤ H ├─░─┤M├───\n",
      "        ├───┤├───┤└───┘ ░ └╥┘┌─┐\n",
      "   q_1: ┤ H ├┤ H ├──────░──╫─┤M├\n",
      "        └───┘└───┘      ░  ║ └╥┘\n",
      "meas: 2/═══════════════════╩══╩═\n",
      "                           0  1 \n",
      "Counts: {'01': 500}\n"
     ]
    }
   ],
   "source": [
    "from qiskit import QuantumCircuit\n",
    "from qiskit_aer import AerSimulator\n",
    "from qiskit.compiler import transpile\n",
    "from qiskit.visualization import plot_histogram\n",
    "\n",
    "qc = QuantumCircuit(2)\n",
    "\n",
    "qc.x(0)\n",
    "qc.h(0)\n",
    "qc.h(1)\n",
    "qc.h(0)\n",
    "qc.h(1)\n",
    "#qc.cx(0, 1)\n",
    "#qc.measure(0, 0)\n",
    "qc.measure_all()\n",
    "print(qc.draw())\n",
    "\n",
    "simulator = AerSimulator()\n",
    "transpiled_qc = transpile(qc, simulator)\n",
    "job = simulator.run(transpiled_qc, shots=500)\n",
    "\n",
    "result = job.result()\n",
    "counts = result.get_counts()\n",
    "\n",
    "print(\"Counts:\", counts)\n",
    "\n",
    "#plot_histogram(counts)"
   ]
  },
  {
   "cell_type": "code",
   "execution_count": null,
   "id": "94949182-0ad9-4177-862f-31ca074a3381",
   "metadata": {},
   "outputs": [],
   "source": []
  }
 ],
 "metadata": {
  "kernelspec": {
   "display_name": "Python 3 (ipykernel)",
   "language": "python",
   "name": "python3"
  },
  "language_info": {
   "codemirror_mode": {
    "name": "ipython",
    "version": 3
   },
   "file_extension": ".py",
   "mimetype": "text/x-python",
   "name": "python",
   "nbconvert_exporter": "python",
   "pygments_lexer": "ipython3",
   "version": "3.10.15"
  }
 },
 "nbformat": 4,
 "nbformat_minor": 5
}
