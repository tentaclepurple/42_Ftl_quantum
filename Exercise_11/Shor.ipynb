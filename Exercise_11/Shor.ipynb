{
 "cells": [
  {
   "cell_type": "code",
   "execution_count": 1,
   "id": "20a50cbb-fd6b-41a6-915b-4f3bf5af8458",
   "metadata": {},
   "outputs": [],
   "source": [
    "from qiskit import QuantumCircuit, transpile\n",
    "from qiskit_aer import AerSimulator\n",
    "import numpy as np\n",
    "from math import gcd\n",
    "from fractions import Fraction\n",
    "import concurrent.futures\n",
    "import time"
   ]
  },
  {
   "cell_type": "code",
   "execution_count": 2,
   "id": "24df9ec7-6d7a-4ca4-abb7-8adb35e578a5",
   "metadata": {},
   "outputs": [],
   "source": [
    "def qft_dagger(n):\n",
    "    \"\"\"n-qubit QFT†.\"\"\"\n",
    "    qc = QuantumCircuit(n)\n",
    "    for qubit in range(n//2):\n",
    "        qc.swap(qubit, n-qubit-1)\n",
    "    for j in range(n):\n",
    "        for m in range(j):\n",
    "            qc.cp(-np.pi/float(2**(j-m)), m, j)\n",
    "        qc.h(j)\n",
    "    return qc"
   ]
  },
  {
   "cell_type": "code",
   "execution_count": 3,
   "id": "63d39a2d-b084-4d47-83b1-6c650783c7a4",
   "metadata": {},
   "outputs": [],
   "source": [
    "def c_amod15(a, power):\n",
    "    \"\"\"Controlled multiplication by a mod 15.\"\"\"\n",
    "    U = QuantumCircuit(4)\n",
    "    for iteration in range(power):\n",
    "        U.swap(2,3)\n",
    "        U.swap(1,2)\n",
    "        U.swap(0,1)\n",
    "        for q in range(4):\n",
    "            U.x(q)\n",
    "    U = U.to_gate()\n",
    "    U.name = f\"{a}^{power} mod 15\"\n",
    "    return U"
   ]
  },
  {
   "cell_type": "code",
   "execution_count": 4,
   "id": "b6a03a19-9f63-4b01-99ab-209bede9b5df",
   "metadata": {},
   "outputs": [],
   "source": [
    "def shor_circuit(N, a):\n",
    "    n = N.bit_length()\n",
    "    \n",
    "    qc = QuantumCircuit(2*n+4, n)\n",
    "    \n",
    "    for q in range(2*n):\n",
    "        qc.h(q)\n",
    "    \n",
    "    qc.x(2*n)\n",
    "    \n",
    "    for i in range(2*n):\n",
    "        qc.append(c_amod15(a, 2**i).control(1), [i] + list(range(2*n, 2*n+4)))\n",
    "    \n",
    "    qc.append(qft_dagger(2*n), range(2*n))\n",
    "    \n",
    "    qc.measure(range(n), range(n))\n",
    "    \n",
    "    return qc"
   ]
  },
  {
   "cell_type": "code",
   "execution_count": 5,
   "id": "456d8e19-276c-4b9e-a5c8-9343b200768c",
   "metadata": {},
   "outputs": [],
   "source": [
    "def get_factors(N, a, measured_phases):\n",
    "    \"\"\"Get factors from the measured phases.\"\"\"\n",
    "    factors = []\n",
    "    for phase in measured_phases:\n",
    "        frac = Fraction(phase).limit_denominator(N)\n",
    "        r = frac.denominator\n",
    "        if r % 2 == 0:\n",
    "            guesses = [gcd(a**(r//2)-1, N), gcd(a**(r//2)+1, N)]\n",
    "            for guess in guesses:\n",
    "                if guess not in [1, N] and (N % guess) == 0:\n",
    "                    factors.append(guess)\n",
    "    return factors"
   ]
  },
  {
   "cell_type": "code",
   "execution_count": 6,
   "id": "5a42361d-2f79-4556-b87f-8d139d007655",
   "metadata": {},
   "outputs": [],
   "source": [
    "def run_shor(N):\n",
    "    \"\"\"Run Shor's algorithm to factor N.\"\"\"\n",
    "    attempts = 0\n",
    "    while attempts < 10:  # Limit the number of attempts\n",
    "        attempts += 1\n",
    "        a = np.random.randint(2, N)\n",
    "        if gcd(a, N) != 1:\n",
    "            return [gcd(a, N), N // gcd(a, N)]\n",
    "\n",
    "        qc = shor_circuit(N, a)\n",
    "        \n",
    "        simulator = AerSimulator()\n",
    "        transpiled_qc = transpile(qc, simulator)\n",
    "        job = simulator.run(transpiled_qc, shots=1000)\n",
    "        result = job.result()\n",
    "        counts = result.get_counts()\n",
    "        \n",
    "        measured_phases = [int(outcome, 2)/(2**qc.num_clbits) for outcome in counts.keys()]\n",
    "        factors = get_factors(N, a, measured_phases)\n",
    "        \n",
    "        if factors:\n",
    "            return factors\n",
    "\n",
    "    return None"
   ]
  },
  {
   "cell_type": "code",
   "execution_count": 7,
   "id": "d94a76ff-f36a-465f-abbe-885608a85f26",
   "metadata": {},
   "outputs": [],
   "source": [
    "def factor_with_timeout(N, timeout=10):\n",
    "    with concurrent.futures.ThreadPoolExecutor() as executor:\n",
    "        future = executor.submit(run_shor, N)\n",
    "        try:\n",
    "            return future.result(timeout=timeout)\n",
    "        except concurrent.futures.TimeoutError:\n",
    "            print(f\"Timeout reached after {timeout} seconds. Stopping execution.\")\n",
    "            return None"
   ]
  },
  {
   "cell_type": "code",
   "execution_count": 8,
   "id": "50b2f535-104d-46ca-9f15-d296b82feee2",
   "metadata": {},
   "outputs": [
    {
     "name": "stdout",
     "output_type": "stream",
     "text": [
      "Factors of 123: [3, 41]\n"
     ]
    }
   ],
   "source": [
    "# Run the algorithm\n",
    "N = 123\n",
    "factors = factor_with_timeout(N)\n",
    "\n",
    "if factors:\n",
    "    print(f\"Factors of {N}: {factors}\")\n",
    "else:\n",
    "    print(f\"Failed to factor {N} within the time limit.\")"
   ]
  },
  {
   "cell_type": "code",
   "execution_count": null,
   "id": "aa0c7d5c-ad66-41b6-9acf-7abc85b5543a",
   "metadata": {},
   "outputs": [],
   "source": []
  }
 ],
 "metadata": {
  "kernelspec": {
   "display_name": "Python 3 (ipykernel)",
   "language": "python",
   "name": "python3"
  },
  "language_info": {
   "codemirror_mode": {
    "name": "ipython",
    "version": 3
   },
   "file_extension": ".py",
   "mimetype": "text/x-python",
   "name": "python",
   "nbconvert_exporter": "python",
   "pygments_lexer": "ipython3",
   "version": "3.10.15"
  }
 },
 "nbformat": 4,
 "nbformat_minor": 5
}
