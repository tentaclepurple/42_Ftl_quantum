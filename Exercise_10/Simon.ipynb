{
 "cells": [
  {
   "cell_type": "markdown",
   "id": "74f2a54c-b9d7-4478-9aa2-47cd10cd657b",
   "metadata": {},
   "source": [
    "**Simon's algorithm**\n",
    "\n",
    "is a quantum algorithm that solves a specific problem exponentially faster than any known classical algorithm.\n",
    "It demonstrates the power of quantum computation and serves as a foundation for more complex quantum algorithms.\n",
    "\n",
    "**The Simon Problem**\n",
    "\n",
    "We have a function f that takes an n-bit binary string and returns another n-bit binary string.\n",
    "This function has a special property:\n",
    "\n",
    "for any pair of inputs x and y, f(x) = f(y) if and only if x = y ⊕ s ,\n",
    "\n",
    "where 's' is a \"secret\" n-bit binary string, and ⊕ is the bitwise XOR operation.\n",
    "\n",
    "Our goal is to find s.\n",
    "\n",
    "In simple words, Simon's Algorithm finds a secret string s that satisfies 𝑓 (𝑥) = 𝑓 (𝑥 ⊕ 𝑠)\n",
    "\n",
    "\n",
    "**Complexity**\n",
    "\n",
    "The quantum algorithm solves the problem in O(n) steps, while the best known classical algorithm requires O(2^(n/2)) steps."
   ]
  },
  {
   "cell_type": "code",
   "execution_count": 8,
   "id": "f9744b30-41f5-4a8c-9678-f16c313c47a0",
   "metadata": {},
   "outputs": [
    {
     "name": "stdout",
     "output_type": "stream",
     "text": [
      "Measurement results: {'011': 2453, '001': 2482, '010': 2537, '000': 2552}\n"
     ]
    },
    {
     "data": {
      "image/png": "[encoded data removed]",
      "text/plain": [
       "<Figure size 640x480 with 1 Axes>"
      ]
     },
     "metadata": {},
     "output_type": "display_data"
    }
   ],
   "source": [
    "from qiskit import QuantumCircuit, transpile\n",
    "from qiskit.visualization import plot_histogram\n",
    "from qiskit_aer import AerSimulator\n",
    "import matplotlib.pyplot as plt\n",
    "\n",
    "def simon_oracle(s):\n",
    "    \"\"\"Create the oracle U_f for Simon's problem, given the secret string s.\"\"\"\n",
    "    n = len(s)\n",
    "    qc = QuantumCircuit(n * 2)\n",
    "    # Apply CNOT gates between pairs of qubits where s[i] = 1\n",
    "    for i, bit in enumerate(s):\n",
    "        if bit == '1':\n",
    "            qc.cx(i, i + n)\n",
    "    \n",
    "    return qc\n",
    "\n",
    "def simon_circuit(n, secret_string):\n",
    "    \"\"\"Simon algorithm circuit to find the secret string.\"\"\"\n",
    "    \n",
    "    # Create a Quantum Circuit with n qubits for input and n qubits for output\n",
    "    qc = QuantumCircuit(2 * n, n)\n",
    "    # Step 1: Apply Hadamard gates to the first n qubits (input register)\n",
    "    qc.h(range(n))\n",
    "    # Step 2: Apply the oracle (U_f) to the qubits\n",
    "    oracle = simon_oracle(secret_string)\n",
    "    qc.compose(oracle, inplace=True)\n",
    "    # Step 3: Apply Hadamard gates again to the first n qubits\n",
    "    qc.h(range(n))\n",
    "    # Step 4: Measure the first n qubits (input register)\n",
    "    qc.measure(range(n), range(n))\n",
    "    \n",
    "    return qc\n",
    "\n",
    "# Set up the problem\n",
    "n = 3  # Number of qubits (example with 3 qubits)\n",
    "secret_string = '110'  # Simulated secret string (this would be unknown in a real scenario)\n",
    "\n",
    "# Create the Simon circuit\n",
    "qc = simon_circuit(n, secret_string)\n",
    "\n",
    "# Set up the simulator\n",
    "simulator = AerSimulator()\n",
    "\n",
    "# Transpile the circuit for the simulator\n",
    "transpiled_qc = transpile(qc, simulator)\n",
    "\n",
    "# Run the simulation\n",
    "job = simulator.run(transpiled_qc, shots=10024)\n",
    "result = job.result()\n",
    "\n",
    "# Get the measurement results\n",
    "counts = result.get_counts(qc)\n",
    "print(\"Measurement results:\", counts)\n",
    "\n",
    "# Visualize the results\n",
    "display(plot_histogram(counts))\n",
    "\n"
   ]
  }
 ],
 "metadata": {
  "kernelspec": {
   "display_name": "Python 3 (ipykernel)",
   "language": "python",
   "name": "python3"
  },
  "language_info": {
   "codemirror_mode": {
    "name": "ipython",
    "version": 3
   },
   "file_extension": ".py",
   "mimetype": "text/x-python",
   "name": "python",
   "nbconvert_exporter": "python",
   "pygments_lexer": "ipython3",
   "version": "3.10.15"
  }
 },
 "nbformat": 4,
 "nbformat_minor": 5
}
