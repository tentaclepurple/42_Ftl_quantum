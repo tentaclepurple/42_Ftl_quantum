{
 "cells": [
  {
   "cell_type": "code",
   "execution_count": 1,
   "id": "d02488aa-bdba-4f36-afa6-eb8d8ae0a6aa",
   "metadata": {},
   "outputs": [
    {
     "data": {
      "text/plain": [
       "['10010',\n",
       " '10110',\n",
       " '01010',\n",
       " '01101',\n",
       " '00011',\n",
       " '01110',\n",
       " '10101',\n",
       " '01110',\n",
       " '01101',\n",
       " '10001',\n",
       " '11100',\n",
       " '10001']"
      ]
     },
     "metadata": {},
     "output_type": "display_data"
    }
   ],
   "source": [
    "from qiskit import QuantumCircuit\n",
    "import numpy as np\n",
    "\n",
    "def simon_function(s: str):\n",
    "    \"\"\"\n",
    "    Create a QuantumCircuit implementing a query gate for Simon problem obeying the promise for the hidden string `s`\n",
    "    \"\"\"\n",
    "    # Our quantum circuit has 2n qubits for n = len(s)\n",
    "    n = len(s)\n",
    "    qc = QuantumCircuit(2 * n)\n",
    "\n",
    "    # Define a random permutation of all n bit strings. This permutation will effectively hide the string s.\n",
    "    pi = np.random.permutation(2 ** n)\n",
    "\n",
    "    # Now we'll define a query gate explicitly. The idea is to first define a function g(x) = min{x,x ^ s}, which\n",
    "    # is a simple function that satisfies the promise, and then we take f to be the composition of g and the random\n",
    "    # permutation pi. This gives us a random function satisfying the promise for s.\n",
    "\n",
    "    query_gate = np.zeros((4 ** n, 4 ** n))\n",
    "    for x in range(2 ** n):\n",
    "        for y in range(2 ** n):\n",
    "            z = y ^ pi[min(x, x ^ int(s, 2))]\n",
    "            query_gate[x + 2 ** n * z, x + 2 ** n * y] = 1\n",
    "\n",
    "    # Our circuit has just this one query gate\n",
    "    qc.unitary(query_gate, range(2 * n))\n",
    "    return qc\n",
    "     \n",
    "\n",
    "from qiskit_aer import AerSimulator\n",
    "\n",
    "def simon_measurements(problem: QuantumCircuit, k: int):\n",
    "    \"\"\"\n",
    "    Quantum part of Simon's algorithm. Given a `QuantumCircuit` that\n",
    "    implements f, get `k` measurements to be post-processed later.\n",
    "    \"\"\"\n",
    "    n = problem.num_qubits // 2\n",
    "\n",
    "    qc = QuantumCircuit(2 * n, n)\n",
    "    qc.h(range(n))\n",
    "    qc.compose(problem, inplace=True)\n",
    "    qc.h(range(n))\n",
    "    qc.measure(range(n), range(n))\n",
    "\n",
    "    result = AerSimulator().run(qc, shots=k, memory=True).result()\n",
    "    return result.get_memory()\n",
    "     \n",
    "\n",
    "# This is a simple test to check that the function is working\n",
    "# and that the measurements are being taken correctly.\n",
    "display(simon_measurements(simon_function(\"11011\"),k=12))\n",
    "     \n",
    "\n",
    "import numpy as np\n",
    "import galois\n",
    "\n",
    "def simon_algorithm(problem: QuantumCircuit):\n",
    "    \"\"\"\n",
    "    Given a `QuantumCircuit` that implements a query gate for Simon problem, return the hidden string `s`.\n",
    "    \"\"\"\n",
    "\n",
    "    # Quantum part: run the circuit defined previously k times and gather the measurement results.\n",
    "    # Replace +10 by +r for any nonnegative integer r depending on desired confidence.\n",
    "\n",
    "    measurements = simon_measurements(problem, k=problem.num_qubits // 2 + 10)\n",
    "    print(\"Measurement results:\")\n",
    "    display(measurements)\n",
    "\n",
    "    # Classical post-processing:\n",
    "\n",
    "    # 1. Convert measurements of form '11101' to 2D-array of integers\n",
    "    matrix = np.array([list(bitstring) for bitstring in measurements]).astype(int)\n",
    "\n",
    "    # 2. Interpret matrix as using arithmetic mod 2, and find null space\n",
    "    null_space = galois.GF(2)(matrix).null_space()\n",
    "    print(\"Null space:\")\n",
    "    display(null_space)\n",
    "\n",
    "    # 3. Convert back to a string\n",
    "    print(\"Guess for hidden string s:\")\n",
    "    if len(null_space) == 0:\n",
    "        # No non-trivial solution; `s` is all-zeros\n",
    "        return \"0\" * len(measurements[0])\n",
    "    return \"\".join(np.array(null_space[0]).astype(str))\n",
    "     \n",
    "\n"
   ]
  },
  {
   "cell_type": "code",
   "execution_count": 2,
   "id": "b54d64ac-ebca-48bc-a443-ea973e228d91",
   "metadata": {},
   "outputs": [
    {
     "name": "stdout",
     "output_type": "stream",
     "text": [
      "Measurement results:\n"
     ]
    },
    {
     "data": {
      "text/plain": [
       "['000',\n",
       " '011',\n",
       " '110',\n",
       " '110',\n",
       " '101',\n",
       " '000',\n",
       " '110',\n",
       " '101',\n",
       " '101',\n",
       " '011',\n",
       " '101',\n",
       " '101',\n",
       " '101']"
      ]
     },
     "metadata": {},
     "output_type": "display_data"
    },
    {
     "name": "stdout",
     "output_type": "stream",
     "text": [
      "Null space:\n"
     ]
    },
    {
     "data": {
      "text/plain": [
       "GF([[1, 1, 1]], order=2)"
      ]
     },
     "metadata": {},
     "output_type": "display_data"
    },
    {
     "name": "stdout",
     "output_type": "stream",
     "text": [
      "Guess for hidden string s:\n"
     ]
    },
    {
     "data": {
      "text/plain": [
       "'111'"
      ]
     },
     "metadata": {},
     "output_type": "display_data"
    }
   ],
   "source": [
    "\n",
    "# Test with string size of 3 qubits\n",
    "display(simon_algorithm(simon_function(\"111\")))\n",
    "     \n"
   ]
  },
  {
   "cell_type": "code",
   "execution_count": 3,
   "id": "bdfd5202-ec38-4117-bfc4-5a02950fc29e",
   "metadata": {},
   "outputs": [
    {
     "name": "stdout",
     "output_type": "stream",
     "text": [
      "Measurement results:\n"
     ]
    },
    {
     "data": {
      "text/plain": [
       "['0100',\n",
       " '0000',\n",
       " '0001',\n",
       " '0001',\n",
       " '1000',\n",
       " '1101',\n",
       " '0000',\n",
       " '0001',\n",
       " '1101',\n",
       " '0100',\n",
       " '0000',\n",
       " '1101',\n",
       " '1100',\n",
       " '0000']"
      ]
     },
     "metadata": {},
     "output_type": "display_data"
    },
    {
     "name": "stdout",
     "output_type": "stream",
     "text": [
      "Null space:\n"
     ]
    },
    {
     "data": {
      "text/plain": [
       "GF([[0, 0, 1, 0]], order=2)"
      ]
     },
     "metadata": {},
     "output_type": "display_data"
    },
    {
     "name": "stdout",
     "output_type": "stream",
     "text": [
      "Guess for hidden string s:\n"
     ]
    },
    {
     "data": {
      "text/plain": [
       "'0010'"
      ]
     },
     "metadata": {},
     "output_type": "display_data"
    }
   ],
   "source": [
    "\n",
    "# Test with string size of 4 qubits\n",
    "display(simon_algorithm(simon_function(\"0010\")))\n",
    "     "
   ]
  },
  {
   "cell_type": "code",
   "execution_count": 4,
   "id": "03915687-4d65-40e6-87a3-1406c1dcbd4e",
   "metadata": {},
   "outputs": [
    {
     "name": "stdout",
     "output_type": "stream",
     "text": [
      "Measurement results:\n"
     ]
    },
    {
     "data": {
      "text/plain": [
       "['01100',\n",
       " '01100',\n",
       " '11010',\n",
       " '10101',\n",
       " '11101',\n",
       " '11001',\n",
       " '01100',\n",
       " '00111',\n",
       " '01011',\n",
       " '01111',\n",
       " '10110',\n",
       " '00011',\n",
       " '00100',\n",
       " '01100',\n",
       " '11010']"
      ]
     },
     "metadata": {},
     "output_type": "display_data"
    },
    {
     "name": "stdout",
     "output_type": "stream",
     "text": [
      "Null space:\n"
     ]
    },
    {
     "data": {
      "text/plain": [
       "GF([[1, 0, 0, 1, 1]], order=2)"
      ]
     },
     "metadata": {},
     "output_type": "display_data"
    },
    {
     "name": "stdout",
     "output_type": "stream",
     "text": [
      "Guess for hidden string s:\n"
     ]
    },
    {
     "data": {
      "text/plain": [
       "'10011'"
      ]
     },
     "metadata": {},
     "output_type": "display_data"
    }
   ],
   "source": [
    "\n",
    "# Test with string size of 5 qubits\n",
    "display(simon_algorithm(simon_function(\"10011\")))"
   ]
  },
  {
   "cell_type": "code",
   "execution_count": 11,
   "id": "23b52f57-f365-4afd-a021-e32c87e6cc16",
   "metadata": {},
   "outputs": [
    {
     "name": "stdout",
     "output_type": "stream",
     "text": [
      "Measurement results:\n"
     ]
    },
    {
     "data": {
      "text/plain": [
       "['1110',\n",
       " '0000',\n",
       " '1110',\n",
       " '1111',\n",
       " '0111',\n",
       " '0000',\n",
       " '0000',\n",
       " '1000',\n",
       " '0000',\n",
       " '0111',\n",
       " '0001',\n",
       " '0111',\n",
       " '0110',\n",
       " '1111']"
      ]
     },
     "metadata": {},
     "output_type": "display_data"
    },
    {
     "name": "stdout",
     "output_type": "stream",
     "text": [
      "Null space:\n"
     ]
    },
    {
     "data": {
      "text/plain": [
       "GF([[0, 1, 1, 0]], order=2)"
      ]
     },
     "metadata": {},
     "output_type": "display_data"
    },
    {
     "name": "stdout",
     "output_type": "stream",
     "text": [
      "Guess for hidden string s:\n"
     ]
    },
    {
     "data": {
      "text/plain": [
       "'0110'"
      ]
     },
     "metadata": {},
     "output_type": "display_data"
    }
   ],
   "source": [
    "display(simon_algorithm(simon_function(\"0110\")))"
   ]
  },
  {
   "cell_type": "code",
   "execution_count": null,
   "id": "52373da1-b012-4cd9-9321-67f825776fae",
   "metadata": {},
   "outputs": [],
   "source": []
  }
 ],
 "metadata": {
  "kernelspec": {
   "display_name": "Python 3 (ipykernel)",
   "language": "python",
   "name": "python3"
  },
  "language_info": {
   "codemirror_mode": {
    "name": "ipython",
    "version": 3
   },
   "file_extension": ".py",
   "mimetype": "text/x-python",
   "name": "python",
   "nbconvert_exporter": "python",
   "pygments_lexer": "ipython3",
   "version": "3.10.15"
  }
 },
 "nbformat": 4,
 "nbformat_minor": 5
}
