{
 "cells": [
  {
   "cell_type": "code",
   "execution_count": 34,
   "id": "9db0512b-d071-42b1-850d-7f6dbae4e29f",
   "metadata": {},
   "outputs": [],
   "source": [
    "from qiskit import QuantumCircuit, QuantumRegister, ClassicalRegister\n",
    "from qiskit_aer import AerSimulator\n",
    "from qiskit.visualization import plot_histogram\n",
    "from qiskit.compiler import transpile"
   ]
  },
  {
   "cell_type": "code",
   "execution_count": 49,
   "id": "37fc766a-5221-4416-a6cf-26dad0a4cada",
   "metadata": {},
   "outputs": [],
   "source": [
    "def bernstein_vazirani_algorithm(n, secret_string):\n",
    "    # Create quantum and classical registers\n",
    "    qr = QuantumRegister(n+1)\n",
    "    cr = ClassicalRegister(n)\n",
    "    qc = QuantumCircuit(qr, cr)\n",
    "\n",
    "    # Initialize the last qubit (ancilla) |-⟩\n",
    "    qc.x(n)\n",
    "    qc.h(n)\n",
    "\n",
    "    # Apply Hadamard gates before querying the oracle\n",
    "    qc.h(range(n))\n",
    "\n",
    "    # Apply the oracle\n",
    "    # Apply cnot to ancilla changing + to - and viceversa if q[i] is 1.\n",
    "    # Ancilla changes the global phase of the quantum system\n",
    "    for i in range(n):\n",
    "        if secret_string[i] == '1':\n",
    "            qc.cx(i, n) \n",
    "\n",
    "    # Apply Hadamard gates to the input register\n",
    "    qc.h(range(n))\n",
    "\n",
    "    # Measure the input register\n",
    "    qc.measure(range(n), range(n-1, -1, -1))\n",
    "\n",
    "    return qc"
   ]
  },
  {
   "cell_type": "code",
   "execution_count": 50,
   "id": "2e51ba13-7619-4c14-aedb-0b4f6331a87c",
   "metadata": {},
   "outputs": [],
   "source": [
    "def transpile_circuit(n, secret_string):\n",
    "    qc = bernstein_vazirani_algorithm(n, secret_string)\n",
    "    \n",
    "    # Use AerSimulator\n",
    "    simulator = AerSimulator()\n",
    "    \n",
    "    # Transpile the circuit for the simulator\n",
    "    transpiled_qc = transpile(qc, simulator)\n",
    "    \n",
    "    # Run the simulation\n",
    "    job = simulator.run(transpiled_qc, shots=500)\n",
    "    result = job.result()\n",
    "    counts = result.get_counts()\n",
    "\n",
    "    # Plot the results\n",
    "    display(plot_histogram(counts))\n",
    "    \n",
    "    # Get the most frequent result\n",
    "    most_frequent = max(counts, key=counts.get)\n",
    "    \n",
    "    return most_frequent"
   ]
  },
  {
   "cell_type": "code",
   "execution_count": 51,
   "id": "7cd7cf32-5a8b-4528-89f6-c3add845fd91",
   "metadata": {},
   "outputs": [
    {
     "name": "stdout",
     "output_type": "stream",
     "text": [
      "Secret string: 1011\n"
     ]
    },
    {
     "data": {
      "image/png": "[encoded data removed]",
      "text/plain": [
       "<Figure size 640x480 with 1 Axes>"
      ]
     },
     "metadata": {},
     "output_type": "display_data"
    },
    {
     "name": "stdout",
     "output_type": "stream",
     "text": [
      "Algorithm output: 1011\n",
      "Success: True\n"
     ]
    }
   ],
   "source": [
    "# Example usage\n",
    "n = 4  # number of qubits (excluding ancilla)\n",
    "\n",
    "secret_string = '1011'  # the secret string to be discovered\n",
    "\n",
    "print(f\"Secret string: {secret_string}\")\n",
    "result = transpile_circuit(n, secret_string)\n",
    "print(f\"Algorithm output: {result}\")\n",
    "print(f\"Success: {result == secret_string}\")"
   ]
  },
  {
   "cell_type": "code",
   "execution_count": null,
   "id": "477d503c-e9b3-445f-a1c2-ebfea613a5d1",
   "metadata": {},
   "outputs": [],
   "source": []
  }
 ],
 "metadata": {
  "kernelspec": {
   "display_name": "Python 3 (ipykernel)",
   "language": "python",
   "name": "python3"
  },
  "language_info": {
   "codemirror_mode": {
    "name": "ipython",
    "version": 3
   },
   "file_extension": ".py",
   "mimetype": "text/x-python",
   "name": "python",
   "nbconvert_exporter": "python",
   "pygments_lexer": "ipython3",
   "version": "3.10.15"
  }
 },
 "nbformat": 4,
 "nbformat_minor": 5
}
