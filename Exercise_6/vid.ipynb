{
 "cells": [
  {
   "cell_type": "code",
   "execution_count": null,
   "id": "dae04dc1-ea8a-4ed3-a9bd-41decc4621fa",
   "metadata": {},
   "outputs": [],
   "source": [
    "from qiskit_aer import AerSimulator\n",
    "from qiskit.compiler import transpile\n",
    "from qiskit.visualization import plot_histogram\n",
    "import numpy as np"
   ]
  },
  {
   "cell_type": "code",
   "execution_count": null,
   "id": "3a7f8711-8e9c-43a9-a2a2-7ff83a8234ff",
   "metadata": {},
   "outputs": [],
   "source": [
    "Grover = QuantumCircuit(3, 3)\n",
    "\n",
    "Grover.h(range(3))\n"
   ]
  }
 ],
 "metadata": {
  "kernelspec": {
   "display_name": "Python 3 (ipykernel)",
   "language": "python",
   "name": "python3"
  },
  "language_info": {
   "codemirror_mode": {
    "name": "ipython",
    "version": 3
   },
   "file_extension": ".py",
   "mimetype": "text/x-python",
   "name": "python",
   "nbconvert_exporter": "python",
   "pygments_lexer": "ipython3",
   "version": "3.10.15"
  }
 },
 "nbformat": 4,
 "nbformat_minor": 5
}
