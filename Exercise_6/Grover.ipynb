{
 "cells": [
  {
   "cell_type": "code",
   "execution_count": 126,
   "id": "ad2eb1dd-3c7d-434c-acf1-5d7e369baf26",
   "metadata": {},
   "outputs": [],
   "source": [
    "from qiskit import QuantumCircuit, QuantumRegister, ClassicalRegister\n",
    "from qiskit_aer import AerSimulator\n",
    "from qiskit.compiler import transpile\n",
    "from qiskit.visualization import plot_histogram\n",
    "import numpy as np"
   ]
  },
  {
   "cell_type": "code",
   "execution_count": 127,
   "id": "30e9b5ac-0a1f-4f89-a4ea-afde7ea39691",
   "metadata": {},
   "outputs": [],
   "source": [
    "def initialize_s(qc, qubits):\n",
    "    \"\"\"Apply Hadamard gates to all qubits\"\"\"\n",
    "    for q in qubits:\n",
    "        qc.h(q)\n",
    "    return qc\n"
   ]
  },
  {
   "cell_type": "code",
   "execution_count": 128,
   "id": "bb1daf41-e637-47c4-a513-c763f2284e56",
   "metadata": {},
   "outputs": [],
   "source": [
    "def diffuser(nqubits):\n",
    "    qc = QuantumCircuit(nqubits)\n",
    "    \n",
    "    # Apply H gates to all qubits\n",
    "    for qubit in range(nqubits):\n",
    "        qc.h(qubit)\n",
    "    \n",
    "    # Apply X gates to all qubits\n",
    "    for qubit in range(nqubits):\n",
    "        qc.x(qubit)\n",
    "    \n",
    "    # Apply multi-controlled Z gate\n",
    "    qc.h(nqubits-1)\n",
    "    qc.ccx(0, 1, nqubits-1)  # Use CCX (Toffoli) gate for 3 qubits\n",
    "    for qubit in range(2, nqubits-1):\n",
    "        qc.cx(qubit, nqubits-1)\n",
    "    qc.ccx(0, 1, nqubits-1)\n",
    "    qc.h(nqubits-1)\n",
    "    \n",
    "    # Apply X gates to all qubits\n",
    "    for qubit in range(nqubits):\n",
    "        qc.x(qubit)\n",
    "    \n",
    "    # Apply H gates to all qubits\n",
    "    for qubit in range(nqubits):\n",
    "        qc.h(qubit)\n",
    "    \n",
    "    return qc"
   ]
  },
  {
   "cell_type": "markdown",
   "id": "6eeaae19-cb9a-49ec-bde0-19b6248c4deb",
   "metadata": {},
   "source": [
    "**Diffusion (Grover's Operator):**\n",
    "\n",
    "- Performs \"reflection about the mean\".\n",
    "\n",
    "- Amplifies marked state's amplitude, reduces others.\n",
    "\n",
    "- Mathematically: 2|ψ⟩⟨ψ| - I\n",
    "\n",
    "- Increases marked state's amplitude, decreases others."
   ]
  },
  {
   "cell_type": "code",
   "execution_count": 129,
   "id": "be67dcf9-1c57-45ba-99ce-48bd4473026b",
   "metadata": {},
   "outputs": [],
   "source": [
    "def grover_algorithm(oracle, n):\n",
    "    qr = QuantumRegister(n)\n",
    "    cr = ClassicalRegister(n)\n",
    "    qc = QuantumCircuit(qr, cr)\n",
    "    \n",
    "    print(\"Initializing superposition\")\n",
    "    initialize_s(qc, qr)\n",
    "    \n",
    "    iterations = int(np.pi/4 * np.sqrt(2**n))\n",
    "    print(f\"Number of iterations: {iterations}\")\n",
    "    \n",
    "    for i in range(iterations):\n",
    "        print(f\"Iteration {i+1}\")\n",
    "        qc.append(oracle, qr)\n",
    "        print(\"Oracle applied\")\n",
    "        qc.append(diffuser(n), qr)\n",
    "        print(\"Diffuser applied\")\n",
    "    \n",
    "    qc.measure(qr, cr)\n",
    "    return qc"
   ]
  },
  {
   "cell_type": "markdown",
   "id": "9edb3fdc-9be2-49fe-981c-49b7a522e87b",
   "metadata": {},
   "source": [
    "**Iteration and Amplification:**\n",
    "\n",
    "- Repeat steps 2 and 3 approximately √N times.\n",
    "\n",
    "- Each iteration increases sought state's amplitude.\n",
    "\n",
    "- \"Concentrates\" probability on desired state."
   ]
  },
  {
   "cell_type": "code",
   "execution_count": 130,
   "id": "1be9605b-09a6-44f6-aff4-efcdec2f0a20",
   "metadata": {},
   "outputs": [],
   "source": [
    "# Example usage (you'll need to define your own oracle)\n",
    "def example_oracle():\n",
    "    qc = QuantumCircuit(3)\n",
    "    qc.z(2)  # Aplica Z al tercer qubit\n",
    "    qc.cz(0, 2)  # Aplica CZ entre el primer y tercer qubit\n",
    "    return qc"
   ]
  },
  {
   "cell_type": "markdown",
   "id": "bf2171eb-b41e-4992-9fd6-17f5024636cd",
   "metadata": {},
   "source": [
    "**Oracle Application**\n",
    "\n",
    "- Oracle recognizes the sought state and inverts its phase.\n",
    "\n",
    "- Inverts the phase of the sought state we are looking for\n",
    "\n",
    "- If |ω⟩ is the sought state: |ω⟩ → -|ω⟩\n",
    "\n",
    "- Other states remain unchanged.\n",
    "\n",
    "- Example searching for |10⟩: |ψ⟩ = (1/2)(|00⟩ + |01⟩ - |10⟩ + |11⟩)"
   ]
  },
  {
   "cell_type": "code",
   "execution_count": 135,
   "id": "ef470ba1-bec8-4cc4-a195-7a2288f63908",
   "metadata": {},
   "outputs": [
    {
     "name": "stdout",
     "output_type": "stream",
     "text": [
      "Initializing superposition\n",
      "Number of iterations: 2\n",
      "Iteration 1\n",
      "Oracle applied\n",
      "Diffuser applied\n",
      "Iteration 2\n",
      "Oracle applied\n",
      "Diffuser applied\n",
      "Circuit depth: 6\n",
      "Circuit size: 10\n",
      "Counts: {'010': 1}\n"
     ]
    },
    {
     "data": {
      "image/png": "[encoded data removed]",
      "text/plain": [
       "<Figure size 640x480 with 1 Axes>"
      ]
     },
     "execution_count": 135,
     "metadata": {},
     "output_type": "execute_result"
    }
   ],
   "source": [
    "# En el código principal\n",
    "oracle = example_oracle()\n",
    "n = 3\n",
    "grover_circuit = grover_algorithm(oracle, n)\n",
    "print(\"Circuit depth:\", grover_circuit.depth())\n",
    "print(\"Circuit size:\", grover_circuit.size())\n",
    "\n",
    "simulator = AerSimulator()\n",
    "transpiled_qc = transpile(grover_circuit, simulator)\n",
    "job = simulator.run(transpiled_qc, shots=1)  # Aumentamos el número de shots\n",
    "result = job.result()\n",
    "counts = result.get_counts()\n",
    "print(\"Counts:\", counts)\n",
    "plot_histogram(counts)"
   ]
  },
  {
   "cell_type": "code",
   "execution_count": null,
   "id": "297bcc20-059b-45ec-84f8-b4b62342715a",
   "metadata": {},
   "outputs": [],
   "source": []
  }
 ],
 "metadata": {
  "kernelspec": {
   "display_name": "Python 3 (ipykernel)",
   "language": "python",
   "name": "python3"
  },
  "language_info": {
   "codemirror_mode": {
    "name": "ipython",
    "version": 3
   },
   "file_extension": ".py",
   "mimetype": "text/x-python",
   "name": "python",
   "nbconvert_exporter": "python",
   "pygments_lexer": "ipython3",
   "version": "3.10.15"
  }
 },
 "nbformat": 4,
 "nbformat_minor": 5
}
