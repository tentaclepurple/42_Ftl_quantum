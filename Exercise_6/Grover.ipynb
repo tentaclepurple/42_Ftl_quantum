{
 "cells": [
  {
   "cell_type": "code",
   "execution_count": 7,
   "id": "ad2eb1dd-3c7d-434c-acf1-5d7e369baf26",
   "metadata": {},
   "outputs": [],
   "source": [
    "from qiskit import QuantumCircuit, QuantumRegister, ClassicalRegister\n",
    "from qiskit_aer import AerSimulator\n",
    "from qiskit.compiler import transpile\n",
    "from qiskit.visualization import plot_histogram\n",
    "import numpy as np"
   ]
  },
  {
   "cell_type": "code",
   "execution_count": 8,
   "id": "30e9b5ac-0a1f-4f89-a4ea-afde7ea39691",
   "metadata": {},
   "outputs": [],
   "source": [
    "def initialize_s(qc, qubits):\n",
    "    \"\"\"Apply Hadamard gates to all qubits\"\"\"\n",
    "    for q in qubits:\n",
    "        qc.h(q)\n",
    "    return qc\n"
   ]
  },
  {
   "cell_type": "code",
   "execution_count": 9,
   "id": "bb1daf41-e637-47c4-a513-c763f2284e56",
   "metadata": {},
   "outputs": [],
   "source": [
    "def diffuser(nqubits):\n",
    "    qc = QuantumCircuit(nqubits)\n",
    "    \n",
    "    # Apply H gates to all qubits\n",
    "    for qubit in range(nqubits):\n",
    "        qc.h(qubit)\n",
    "    \n",
    "    # Apply X gates to all qubits\n",
    "    for qubit in range(nqubits):\n",
    "        qc.x(qubit)\n",
    "    \n",
    "    # Apply multi-controlled Z gate\n",
    "    qc.h(nqubits-1)\n",
    "    qc.ccx(0, 1, nqubits-1)  # Use CCX (Toffoli) gate for 3 qubits\n",
    "    for qubit in range(2, nqubits-1):\n",
    "        qc.cx(qubit, nqubits-1)\n",
    "    qc.ccx(0, 1, nqubits-1)\n",
    "    qc.h(nqubits-1)\n",
    "    \n",
    "    # Apply X gates to all qubits\n",
    "    for qubit in range(nqubits):\n",
    "        qc.x(qubit)\n",
    "    \n",
    "    # Apply H gates to all qubits\n",
    "    for qubit in range(nqubits):\n",
    "        qc.h(qubit)\n",
    "    \n",
    "    return qc"
   ]
  },
  {
   "cell_type": "code",
   "execution_count": 10,
   "id": "be67dcf9-1c57-45ba-99ce-48bd4473026b",
   "metadata": {},
   "outputs": [],
   "source": [
    "def grover_algorithm(oracle, n):\n",
    "    # Initialize quantum and classical registers\n",
    "    qr = QuantumRegister(n)\n",
    "    cr = ClassicalRegister(n)\n",
    "    qc = QuantumCircuit(qr, cr)\n",
    "\n",
    "    # Initialize superposition\n",
    "    initialize_s(qc, qr)\n",
    "\n",
    "    # Number of iterations\n",
    "    iterations = int(np.pi/4 * np.sqrt(2**n))\n",
    "\n",
    "    # Grover iteration\n",
    "    for _ in range(iterations):\n",
    "        qc.append(oracle, qr)\n",
    "        qc.append(diffuser(n), qr)\n",
    "\n",
    "    # Measure\n",
    "    qc.measure(qr, cr)\n",
    "\n",
    "    return qc\n",
    "    "
   ]
  },
  {
   "cell_type": "code",
   "execution_count": 11,
   "id": "1be9605b-09a6-44f6-aff4-efcdec2f0a20",
   "metadata": {},
   "outputs": [],
   "source": [
    "# Example usage (you'll need to define your own oracle)\n",
    "def example_oracle():\n",
    "    # This is just a placeholder. You'll need to implement actual oracles.\n",
    "    qc = QuantumCircuit(3)\n",
    "    qc.cz(0, 2)\n",
    "    return qc"
   ]
  },
  {
   "cell_type": "code",
   "execution_count": 13,
   "id": "ef470ba1-bec8-4cc4-a195-7a2288f63908",
   "metadata": {},
   "outputs": [
    {
     "name": "stdout",
     "output_type": "stream",
     "text": [
      "Counts: {'001': 83, '110': 62, '101': 64, '100': 55, '000': 57, '010': 61, '011': 61, '111': 57}\n"
     ]
    },
    {
     "data": {
      "image/png": "[encoded data removed]",
      "text/plain": [
       "<Figure size 640x480 with 1 Axes>"
      ]
     },
     "execution_count": 13,
     "metadata": {},
     "output_type": "execute_result"
    }
   ],
   "source": [
    "# Create and run the circuit\n",
    "oracle = example_oracle()\n",
    "n = 3  # number of qubits\n",
    "grover_circuit = grover_algorithm(oracle, n)\n",
    "\n",
    "# Transpile and run\n",
    "simulator = AerSimulator()\n",
    "transpiled_qc = transpile(grover_circuit, simulator)\n",
    "job = simulator.run(transpiled_qc, shots=500)\n",
    "\n",
    "result = job.result()\n",
    "counts = result.get_counts()\n",
    "\n",
    "print(\"Counts:\", counts)\n",
    "\n",
    "plot_histogram(counts)"
   ]
  },
  {
   "cell_type": "code",
   "execution_count": null,
   "id": "7e60588d-00be-41e4-8bfa-1d5cc0114d5b",
   "metadata": {},
   "outputs": [],
   "source": []
  }
 ],
 "metadata": {
  "kernelspec": {
   "display_name": "Python 3 (ipykernel)",
   "language": "python",
   "name": "python3"
  },
  "language_info": {
   "codemirror_mode": {
    "name": "ipython",
    "version": 3
   },
   "file_extension": ".py",
   "mimetype": "text/x-python",
   "name": "python",
   "nbconvert_exporter": "python",
   "pygments_lexer": "ipython3",
   "version": "3.10.15"
  }
 },
 "nbformat": 4,
 "nbformat_minor": 5
}
