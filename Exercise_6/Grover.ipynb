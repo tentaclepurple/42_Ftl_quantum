{
 "cells": [
  {
   "cell_type": "code",
   "execution_count": 7,
   "id": "ad2eb1dd-3c7d-434c-acf1-5d7e369baf26",
   "metadata": {},
   "outputs": [],
   "source": [
    "from qiskit import QuantumCircuit, QuantumRegister, ClassicalRegister\n",
    "from qiskit.transpiler.preset_passmanagers import generate_preset_pass_manager\n",
    "from qiskit_aer import Aer\n",
    "from qiskit_ibm_runtime import SamplerV2 as Sampler\n",
    "from qiskit.visualization import plot_histogram\n",
    "import numpy as np"
   ]
  },
  {
   "cell_type": "code",
   "execution_count": 8,
   "id": "30e9b5ac-0a1f-4f89-a4ea-afde7ea39691",
   "metadata": {},
   "outputs": [],
   "source": [
    "def initialize_s(qc, qubits):\n",
    "    \"\"\"Apply Hadamard gates to all qubits\"\"\"\n",
    "    for q in qubits:\n",
    "        qc.h(q)\n",
    "    return qc\n"
   ]
  },
  {
   "cell_type": "code",
   "execution_count": 9,
   "id": "bb1daf41-e637-47c4-a513-c763f2284e56",
   "metadata": {},
   "outputs": [],
   "source": [
    "def diffuser(nqubits):\n",
    "    qc = QuantumCircuit(nqubits)\n",
    "    \n",
    "    # Apply H gates to all qubits\n",
    "    for qubit in range(nqubits):\n",
    "        qc.h(qubit)\n",
    "    \n",
    "    # Apply X gates to all qubits\n",
    "    for qubit in range(nqubits):\n",
    "        qc.x(qubit)\n",
    "    \n",
    "    # Apply multi-controlled Z gate\n",
    "    qc.h(nqubits-1)\n",
    "    qc.ccx(0, 1, nqubits-1)  # Use CCX (Toffoli) gate for 3 qubits\n",
    "    for qubit in range(2, nqubits-1):\n",
    "        qc.cx(qubit, nqubits-1)\n",
    "    qc.ccx(0, 1, nqubits-1)\n",
    "    qc.h(nqubits-1)\n",
    "    \n",
    "    # Apply X gates to all qubits\n",
    "    for qubit in range(nqubits):\n",
    "        qc.x(qubit)\n",
    "    \n",
    "    # Apply H gates to all qubits\n",
    "    for qubit in range(nqubits):\n",
    "        qc.h(qubit)\n",
    "    \n",
    "    return qc"
   ]
  },
  {
   "cell_type": "code",
   "execution_count": 10,
   "id": "be67dcf9-1c57-45ba-99ce-48bd4473026b",
   "metadata": {},
   "outputs": [],
   "source": [
    "def grover_algorithm(oracle, n):\n",
    "    # Initialize quantum and classical registers\n",
    "    qr = QuantumRegister(n)\n",
    "    cr = ClassicalRegister(n)\n",
    "    qc = QuantumCircuit(qr, cr)\n",
    "\n",
    "    # Initialize superposition\n",
    "    initialize_s(qc, qr)\n",
    "\n",
    "    # Number of iterations\n",
    "    iterations = int(np.pi/4 * np.sqrt(2**n))\n",
    "\n",
    "    # Grover iteration\n",
    "    for _ in range(iterations):\n",
    "        qc.append(oracle, qr)\n",
    "        qc.append(diffuser(n), qr)\n",
    "\n",
    "    # Measure\n",
    "    qc.measure(qr, cr)\n",
    "\n",
    "    return qc\n",
    "    "
   ]
  },
  {
   "cell_type": "code",
   "execution_count": 11,
   "id": "1be9605b-09a6-44f6-aff4-efcdec2f0a20",
   "metadata": {},
   "outputs": [],
   "source": [
    "# Example usage (you'll need to define your own oracle)\n",
    "def example_oracle():\n",
    "    # This is just a placeholder. You'll need to implement actual oracles.\n",
    "    qc = QuantumCircuit(3)\n",
    "    qc.cz(0, 2)\n",
    "    return qc"
   ]
  },
  {
   "cell_type": "code",
   "execution_count": 12,
   "id": "ef470ba1-bec8-4cc4-a195-7a2288f63908",
   "metadata": {},
   "outputs": [
    {
     "ename": "AttributeError",
     "evalue": "'DataBin' object has no attribute 'meas'",
     "output_type": "error",
     "traceback": [
      "\u001b[0;31m---------------------------------------------------------------------------\u001b[0m",
      "\u001b[0;31mAttributeError\u001b[0m                            Traceback (most recent call last)",
      "Cell \u001b[0;32mIn[12], line 15\u001b[0m\n\u001b[1;32m     13\u001b[0m job \u001b[38;5;241m=\u001b[39m sampler\u001b[38;5;241m.\u001b[39mrun([transpiled], shots\u001b[38;5;241m=\u001b[39m\u001b[38;5;241m1000\u001b[39m)\n\u001b[1;32m     14\u001b[0m result \u001b[38;5;241m=\u001b[39m job\u001b[38;5;241m.\u001b[39mresult()\n\u001b[0;32m---> 15\u001b[0m counts \u001b[38;5;241m=\u001b[39m \u001b[43mresult\u001b[49m\u001b[43m[\u001b[49m\u001b[38;5;241;43m0\u001b[39;49m\u001b[43m]\u001b[49m\u001b[38;5;241;43m.\u001b[39;49m\u001b[43mdata\u001b[49m\u001b[38;5;241;43m.\u001b[39;49m\u001b[43mmeas\u001b[49m\u001b[38;5;241m.\u001b[39mget_counts()\n\u001b[1;32m     17\u001b[0m \u001b[38;5;66;03m# Print results\u001b[39;00m\n\u001b[1;32m     18\u001b[0m \u001b[38;5;28mprint\u001b[39m(counts)\n",
      "\u001b[0;31mAttributeError\u001b[0m: 'DataBin' object has no attribute 'meas'"
     ]
    }
   ],
   "source": [
    "# Create and run the circuit\n",
    "oracle = example_oracle()\n",
    "n = 3  # number of qubits\n",
    "grover_circuit = grover_algorithm(oracle, n)\n",
    "\n",
    "# Transpile and run\n",
    "backend = Aer.get_backend('qasm_simulator')\n",
    "target = backend.target\n",
    "pass_manager = generate_preset_pass_manager(target=target, optimization_level=0, backend=backend)\n",
    "transpiled = pass_manager.run(grover_circuit)\n",
    "\n",
    "sampler = Sampler(mode=backend)\n",
    "job = sampler.run([transpiled], shots=1000)\n",
    "result = job.result()\n",
    "counts = result[0].data.meas.get_counts()\n",
    "\n",
    "# Print results\n",
    "print(counts)\n",
    "plot_histogram(counts)"
   ]
  },
  {
   "cell_type": "code",
   "execution_count": null,
   "id": "7e60588d-00be-41e4-8bfa-1d5cc0114d5b",
   "metadata": {},
   "outputs": [],
   "source": []
  }
 ],
 "metadata": {
  "kernelspec": {
   "display_name": "Python 3 (ipykernel)",
   "language": "python",
   "name": "python3"
  },
  "language_info": {
   "codemirror_mode": {
    "name": "ipython",
    "version": 3
   },
   "file_extension": ".py",
   "mimetype": "text/x-python",
   "name": "python",
   "nbconvert_exporter": "python",
   "pygments_lexer": "ipython3",
   "version": "3.10.15"
  }
 },
 "nbformat": 4,
 "nbformat_minor": 5
}
