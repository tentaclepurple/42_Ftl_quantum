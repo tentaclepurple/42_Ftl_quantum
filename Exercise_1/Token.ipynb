{
 "cells": [
  {
   "cell_type": "code",
   "execution_count": 1,
   "id": "85ec7029-d79a-467d-8f09-f13ef9c24930",
   "metadata": {},
   "outputs": [],
   "source": [
    "from qiskit_ibm_runtime import QiskitRuntimeService\n",
    "from qiskit_aer import Aer\n",
    "import os\n",
    "\n",
    "from dotenv import load_dotenv"
   ]
  },
  {
   "cell_type": "code",
   "execution_count": 2,
   "id": "319399f7-7122-488f-a355-45528bcb91ac",
   "metadata": {},
   "outputs": [],
   "source": [
    "load_dotenv(dotenv_path=\"../.env\")\n",
    "ibm_token = os.getenv(\"IBM_TOKEN\")"
   ]
  },
  {
   "cell_type": "code",
   "execution_count": 3,
   "id": "622edf6c-76ee-4d28-ae89-83647d70743c",
   "metadata": {},
   "outputs": [],
   "source": [
    "QiskitRuntimeService.save_account(channel=\"ibm_quantum\",\n",
    "\t\t\t\t\t\t\t\t  token=ibm_token, overwrite=True,\n",
    "\t\t\t\t\t\t\t\t  set_as_default=True)"
   ]
  },
  {
   "cell_type": "code",
   "execution_count": 4,
   "id": "49ab3a63-0174-410f-88c3-d412096fd435",
   "metadata": {},
   "outputs": [
    {
     "name": "stdout",
     "output_type": "stream",
     "text": [
      "Simulated quantum computers:\n",
      "\n",
      "\taer_simulator                       has    0 queues\n",
      "\taer_simulator_statevector           has    0 queues\n",
      "\taer_simulator_density_matrix        has    0 queues\n",
      "\taer_simulator_stabilizer            has    0 queues\n",
      "\taer_simulator_matrix_product_state  has    0 queues\n",
      "\taer_simulator_extended_stabilizer   has    0 queues\n",
      "\taer_simulator_unitary               has    0 queues\n",
      "\taer_simulator_superop               has    0 queues\n",
      "\tqasm_simulator                      has    0 queues\n",
      "\tstatevector_simulator               has    0 queues\n",
      "\tunitary_simulator                   has    0 queues\n"
     ]
    }
   ],
   "source": [
    "# IBM quantum simulator computers\n",
    "sim_comp = QiskitRuntimeService().backends(simulator=True, operational=True)\n",
    "\n",
    "# Aer local simulators\n",
    "aer_comp = Aer.backends()\n",
    "\n",
    "print(\"Simulated quantum computers:\")\n",
    "for sc in sim_comp:\n",
    "\tprint(f'\\t{sc.name:<35s} has {sc.status().pending_jobs:4} queues')\n",
    "print()\n",
    "for ac in aer_comp:\n",
    "\tprint(f'\\t{ac.name:<35s} has {ac.status().pending_jobs:4} queues')"
   ]
  },
  {
   "cell_type": "code",
   "execution_count": 6,
   "id": "b1fb2113-0c42-4401-b53a-a249d20e1df8",
   "metadata": {},
   "outputs": [
    {
     "name": "stdout",
     "output_type": "stream",
     "text": [
      "Real quantum computers:\n",
      "\tibm_brisbane    has  123 queues with 127 qubits\n",
      "\tibm_kyiv        has  418 queues with 127 qubits\n",
      "\tibm_sherbrooke  has   48 queues with 127 qubits\n"
     ]
    }
   ],
   "source": [
    "quantum_comp = QiskitRuntimeService().backends(simulator=False, operational=True)\n",
    "\n",
    "print(\"Real quantum computers:\")\n",
    "for qc in quantum_comp:\n",
    "    print(f'\\t{qc.name:<15s} has {qc.status().pending_jobs:4}'\n",
    "          f' queues with {qc.num_qubits:3} qubits')"
   ]
  },
  {
   "cell_type": "code",
   "execution_count": null,
   "id": "837a4702-8816-43b5-9130-dcc5938b2e47",
   "metadata": {},
   "outputs": [],
   "source": []
  }
 ],
 "metadata": {
  "kernelspec": {
   "display_name": "Python 3 (ipykernel)",
   "language": "python",
   "name": "python3"
  },
  "language_info": {
   "codemirror_mode": {
    "name": "ipython",
    "version": 3
   },
   "file_extension": ".py",
   "mimetype": "text/x-python",
   "name": "python",
   "nbconvert_exporter": "python",
   "pygments_lexer": "ipython3",
   "version": "3.10.15"
  }
 },
 "nbformat": 4,
 "nbformat_minor": 5
}
